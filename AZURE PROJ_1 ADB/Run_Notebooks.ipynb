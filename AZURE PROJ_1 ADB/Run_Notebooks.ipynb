{
 "cells": [
  {
   "cell_type": "code",
   "execution_count": 0,
   "metadata": {
    "application/vnd.databricks.v1+cell": {
     "cellMetadata": {
      "byteLimit": 2048000,
      "rowLimit": 10000
     },
     "inputWidgets": {},
     "nuid": "1a5f55e2-3ba7-4b9d-9346-7d99012fce25",
     "showTitle": false,
     "tableResultSettingsMap": {},
     "title": ""
    }
   },
   "outputs": [],
   "source": [
    "\n",
    "dbutils.widgets.text(\"Layer_Name\",\"\")\n",
    "Layer_Name=dbutils.widgets.getArgument(\"Layer_Name\")\n"
   ]
  },
  {
   "cell_type": "code",
   "execution_count": 0,
   "metadata": {
    "application/vnd.databricks.v1+cell": {
     "cellMetadata": {
      "byteLimit": 2048000,
      "rowLimit": 10000
     },
     "inputWidgets": {},
     "nuid": "1dedb7c9-dbf0-4639-9e65-be7e32e4a8cd",
     "showTitle": false,
     "tableResultSettingsMap": {},
     "title": ""
    }
   },
   "outputs": [],
   "source": [
    "\n",
    "Notebook_Path_Json = {\n",
    "    \"Cleansed\": [\n",
    "        \n",
    "            \"AZURE PROJ_1 ADB/Cleansing/Airlines\",\n",
    "            \"AZURE PROJ_1 ADB/Cleansing/Airport\",\n",
    "            \"AZURE PROJ_1 ADB/Cleansing/Cancellation\",\n",
    "            \"/AZURE PROJ_1 ADB/Cleansing/Flight\",\n",
    "            \"AZURE PROJ_1 ADB/Cleansing/Plane\",\n",
    "            \"AZURE PROJ_1 ADB/Cleansing/Unique_Carrier\",\n",
    "        \n",
    "    ],\n",
    "    \"Data_Quality_Cleansed\": \n",
    "        [\"AZURE PROJ_1 ADB/Data_Quality_Notebook/Cleansing_Data_Quality\"]\n",
    "    ,\n",
    "    \"Mart\": \n",
    "        [\n",
    "            \"AZURE PROJ_1 ADB/Mart/Dim_Airlines\",\n",
    "            \"AZURE PROJ_1 ADB/Mart/Dim_Airport\",\n",
    "            \"AZURE PROJ_1 ADB/Mart/Dim_Cancellation\",\n",
    "            \"AZURE PROJ_1 ADB/Mart/Dim_Plane\",\n",
    "            \"AZURE PROJ_1 ADB/Mart/Dim_UniqueCarrier\",\n",
    "            \"AZURE PROJ_1 ADB/Mart/Reporting_Flight\",\n",
    "            \n",
    "        \n",
    "    ]\n",
    "}\n",
    "\n",
    "\n",
    "\n",
    "\n"
   ]
  },
  {
   "cell_type": "code",
   "execution_count": 0,
   "metadata": {
    "application/vnd.databricks.v1+cell": {
     "cellMetadata": {
      "byteLimit": 2048000,
      "rowLimit": 10000
     },
     "inputWidgets": {},
     "nuid": "17870808-73ba-45d9-9be3-92d87debf468",
     "showTitle": false,
     "tableResultSettingsMap": {},
     "title": ""
    }
   },
   "outputs": [],
   "source": [
    "for notebook_paths in Notebook_Path_Json[Layer_Name]:\n",
    "    dbutils.notebook.run(notebook_paths,0)"
   ]
  }
 ],
 "metadata": {
  "application/vnd.databricks.v1+notebook": {
   "computePreferences": null,
   "dashboards": [],
   "environmentMetadata": {
    "base_environment": "",
    "environment_version": "2"
   },
   "language": "python",
   "notebookMetadata": {
    "pythonIndentUnit": 4
   },
   "notebookName": "Run_Notebooks",
   "widgets": {
    "Layer_Name": {
     "currentValue": "Cleansed",
     "nuid": "32fcc6e2-6cb0-4322-83c3-4ec47b41c345",
     "typedWidgetInfo": {
      "autoCreated": false,
      "defaultValue": "",
      "label": null,
      "name": "Layer_Name",
      "options": {
       "widgetDisplayType": "Text",
       "validationRegex": null
      },
      "parameterDataType": "String"
     },
     "widgetInfo": {
      "widgetType": "text",
      "defaultValue": "",
      "label": null,
      "name": "Layer_Name",
      "options": {
       "widgetType": "text",
       "autoCreated": null,
       "validationRegex": null
      }
     }
    }
   }
  },
  "language_info": {
   "name": "python"
  }
 },
 "nbformat": 4,
 "nbformat_minor": 0
}
