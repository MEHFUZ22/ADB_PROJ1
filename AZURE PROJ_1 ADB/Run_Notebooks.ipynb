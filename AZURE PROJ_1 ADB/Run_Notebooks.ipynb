{
 "cells": [
  {
   "cell_type": "code",
   "execution_count": 0,
   "metadata": {
    "application/vnd.databricks.v1+cell": {
     "cellMetadata": {
      "byteLimit": 2048000,
      "rowLimit": 10000
     },
     "inputWidgets": {},
     "nuid": "1a5f55e2-3ba7-4b9d-9346-7d99012fce25",
     "showTitle": false,
     "tableResultSettingsMap": {},
     "title": ""
    }
   },
   "outputs": [],
   "source": [
    "\n",
    "dbutils.widgets.text(\"layer_name\",\"\")\n",
    "Layer_name=dbutils.widgets.getArgument(\"layer_name\")\n",
    "print(Layer_name)"
   ]
  },
  {
   "cell_type": "code",
   "execution_count": 0,
   "metadata": {
    "application/vnd.databricks.v1+cell": {
     "cellMetadata": {
      "byteLimit": 2048000,
      "rowLimit": 10000
     },
     "inputWidgets": {},
     "nuid": "1dedb7c9-dbf0-4639-9e65-be7e32e4a8cd",
     "showTitle": false,
     "tableResultSettingsMap": {},
     "title": ""
    }
   },
   "outputs": [],
   "source": [
    "\n",
    "Notebook_Path_Json = {\n",
    "    \"Cleansed\": [\n",
    "        \n",
    "            \"/Workspace/CODES/ADB_PROJ ONE/AZURE PROJ_1 ADB/Cleansing/Airlines\",\n",
    "            \"/Workspace/CODES/ADB_PROJ ONE/AZURE PROJ_1 ADB/Cleansing/Airport\",\n",
    "            \"/Workspace/CODES/ADB_PROJ ONE/AZURE PROJ_1 ADB/Cleansing/Cancellation\",\n",
    "            \"/Workspace/CODES/ADB_PROJ ONE/AZURE PROJ_1 ADB/Cleansing/Flight\",\n",
    "            \"/Workspace/CODES/ADB_PROJ ONE/AZURE PROJ_1 ADB/Cleansing/Plane\",\n",
    "            \"/Workspace/CODES/ADB_PROJ ONE/AZURE PROJ_1 ADB/Cleansing/Unique_Carrier\",\n",
    "        \n",
    "    ],\n",
    "    \"Data_Quality_Cleansed\": \n",
    "        [\"/Workspace/CODES/ADB_PROJ ONE/AZURE PROJ_1 ADB/Data_Quality_Notebook/Cleansing_Data_Quality\"]\n",
    "    ,\n",
    "    \"Mart\": \n",
    "        [\n",
    "            \"/Workspace/CODES/ADB_PROJ ONE/AZURE PROJ_1 ADB/Mart/Dim_Airlines\",\n",
    "            \"/Workspace/CODES/ADB_PROJ ONE/AZURE PROJ_1 ADB/Mart/Dim_Airport\",\n",
    "            \"/Workspace/CODES/ADB_PROJ ONE/AZURE PROJ_1 ADB/Mart/Dim_Cancellation\",\n",
    "            \"/Workspace/CODES/ADB_PROJ ONE/AZURE PROJ_1 ADB/Mart/Dim_Plane\",\n",
    "            \"/Workspace/CODES/ADB_PROJ ONE/AZURE PROJ_1 ADB/Mart/Dim_UniqueCarrier\",\n",
    "            \"/Workspace/CODES/ADB_PROJ ONE/AZURE PROJ_1 ADB/Mart/Reporting_Flight\",\n",
    "            \n",
    "        \n",
    "    ]\n",
    "}\n",
    "\n",
    "\n",
    "\n",
    "\n"
   ]
  },
  {
   "cell_type": "code",
   "execution_count": 0,
   "metadata": {
    "application/vnd.databricks.v1+cell": {
     "cellMetadata": {
      "byteLimit": 2048000,
      "rowLimit": 10000
     },
     "inputWidgets": {},
     "nuid": "17870808-73ba-45d9-9be3-92d87debf468",
     "showTitle": false,
     "tableResultSettingsMap": {},
     "title": ""
    }
   },
   "outputs": [],
   "source": [
    "for notebook_paths in Notebook_Path_Json[Layer_name]:\n",
    "    dbutils.notebook.run(notebook_paths,0)"
   ]
  }
 ],
 "metadata": {
  "application/vnd.databricks.v1+notebook": {
   "computePreferences": null,
   "dashboards": [],
   "environmentMetadata": {
    "base_environment": "",
    "environment_version": "2"
   },
   "language": "python",
   "notebookMetadata": {
    "pythonIndentUnit": 4
   },
   "notebookName": "Run_Notebooks",
   "widgets": {
    "layer_name": {
     "currentValue": "Cleansed",
     "nuid": "678399f9-198a-47da-95ea-b108d94b6a15",
     "typedWidgetInfo": {
      "autoCreated": false,
      "defaultValue": "",
      "label": null,
      "name": "layer_name",
      "options": {
       "widgetDisplayType": "Text",
       "validationRegex": null
      },
      "parameterDataType": "String"
     },
     "widgetInfo": {
      "widgetType": "text",
      "defaultValue": "",
      "label": null,
      "name": "layer_name",
      "options": {
       "widgetType": "text",
       "autoCreated": null,
       "validationRegex": null
      }
     }
    }
   }
  },
  "language_info": {
   "name": "python"
  }
 },
 "nbformat": 4,
 "nbformat_minor": 0
}
