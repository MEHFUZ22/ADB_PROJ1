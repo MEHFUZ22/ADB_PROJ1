{
 "cells": [
  {
   "cell_type": "code",
   "execution_count": 0,
   "metadata": {
    "application/vnd.databricks.v1+cell": {
     "cellMetadata": {
      "byteLimit": 2048000,
      "rowLimit": 10000
     },
     "inputWidgets": {},
     "nuid": "a925127d-6ed2-4e3c-a315-f5b086844021",
     "showTitle": false,
     "tableResultSettingsMap": {},
     "title": ""
    }
   },
   "outputs": [],
   "source": [
    "\n",
    "%run \"/Workspace/CODES/ADB_PROJ ONE/AZURE PROJ_1 ADB/Utilities/Utilities\""
   ]
  },
  {
   "cell_type": "code",
   "execution_count": 0,
   "metadata": {
    "application/vnd.databricks.v1+cell": {
     "cellMetadata": {
      "byteLimit": 2048000,
      "rowLimit": 10000
     },
     "inputWidgets": {},
     "nuid": "5c51e906-657b-4fe5-9fbe-c5993fda8b24",
     "showTitle": false,
     "tableResultSettingsMap": {},
     "title": ""
    }
   },
   "outputs": [],
   "source": [
    "list_table_info = [\n",
    "    (\"WRITE\", \"Airlines\", 100),\n",
    "    (\"STREAMING UPDATE\", \"airport\", 1000),\n",
    "    (\"STREAMING UPDATE\", \"cancellation\", 100),\n",
    "    (\"STREAMING UPDATE\", \"flight\", 150),\n",
    "    (\"STREAMING UPDATE\", \"plane\", 300),\n",
    "    (\"STREAMING UPDATE\", \"unique_carriers\", 500),\n",
    "]\n",
    "\n",
    "for i in list_table_info:\n",
    "    f_count_check(\"hive_metastore.cleansed_azurep1\", i[0], i[1], i[2])"
   ]
  }
 ],
 "metadata": {
  "application/vnd.databricks.v1+notebook": {
   "computePreferences": null,
   "dashboards": [],
   "environmentMetadata": {
    "base_environment": "",
    "environment_version": "2"
   },
   "language": "python",
   "notebookMetadata": {
    "mostRecentlyExecutedCommandWithImplicitDF": {
     "commandId": 532962775370584,
     "dataframes": [
      "_sqldf"
     ]
    },
    "pythonIndentUnit": 4
   },
   "notebookName": "Cleansing_Data_Quality",
   "widgets": {}
  },
  "language_info": {
   "name": "python"
  }
 },
 "nbformat": 4,
 "nbformat_minor": 0
}
